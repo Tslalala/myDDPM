{
 "cells": [
  {
   "cell_type": "code",
   "id": "initial_id",
   "metadata": {
    "collapsed": true,
    "ExecuteTime": {
     "end_time": "2025-09-13T16:50:12.323230Z",
     "start_time": "2025-09-13T16:50:12.304816Z"
    }
   },
   "source": [
    "from PIL import Image\n",
    "\n",
    "# 打开图像\n",
    "img = Image.open(\"data/md.png\")\n",
    "\n",
    "# 调整大小为 64x64\n",
    "img_resized = img.resize((32, 32))\n",
    "\n",
    "# 保存处理后的图像\n",
    "img_resized.save(\"data/md32.png\")\n",
    "\n",
    "print(\"png saved\")\n"
   ],
   "outputs": [
    {
     "name": "stdout",
     "output_type": "stream",
     "text": [
      "png saved\n"
     ]
    }
   ],
   "execution_count": 4
  },
  {
   "metadata": {},
   "cell_type": "code",
   "outputs": [],
   "execution_count": null,
   "source": "",
   "id": "e936e03177f0ea51"
  }
 ],
 "metadata": {
  "kernelspec": {
   "display_name": "Python 3",
   "language": "python",
   "name": "python3"
  },
  "language_info": {
   "codemirror_mode": {
    "name": "ipython",
    "version": 2
   },
   "file_extension": ".py",
   "mimetype": "text/x-python",
   "name": "python",
   "nbconvert_exporter": "python",
   "pygments_lexer": "ipython2",
   "version": "2.7.6"
  }
 },
 "nbformat": 4,
 "nbformat_minor": 5
}
